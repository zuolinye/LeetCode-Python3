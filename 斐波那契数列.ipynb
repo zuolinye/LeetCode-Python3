{
 "cells": [
  {
   "cell_type": "markdown",
   "metadata": {},
   "source": [
    "'''\n",
    "大家都知道斐波那契数列，现在要求输入一个整数n，请你输出斐波那契数列的第n项。\n",
    "n<=39\n",
    "'''"
   ]
  },
  {
   "cell_type": "code",
   "execution_count": 1,
   "metadata": {},
   "outputs": [],
   "source": [
    "# -*- coding:utf-8 -*-\n",
    "class Solution:\n",
    "    def Fibonacci(self, n):\n",
    "        tempArray = [0, 1]\n",
    "        if n >= 2:\n",
    "            for i in range(2, n+1):\n",
    "                tempArray[i%2] = tempArray[0] + tempArray[1]\n",
    "        return tempArray[n%2]\n",
    "    # 青蛙跳台阶, 每次可以跳1级或2级\n",
    "    def jumpFloor(self, number):\n",
    "        # write code here\n",
    "        tempArray = [1, 2]\n",
    "        if number >= 3:\n",
    "            for i in range(3, number + 1):\n",
    "                tempArray[(i + 1) % 2] = tempArray[0] + tempArray[1]\n",
    "        return tempArray[(number + 1) % 2]\n",
    "\n",
    "    def jumpFloorII(self, number):\n",
    "        ans = 1\n",
    "        if number >= 2:\n",
    "            for i in range(number-1):\n",
    "                ans = ans * 2\n",
    "        return ans\n"
   ]
  },
  {
   "cell_type": "code",
   "execution_count": 2,
   "metadata": {},
   "outputs": [],
   "source": [
    "test = Solution()"
   ]
  },
  {
   "cell_type": "code",
   "execution_count": 3,
   "metadata": {},
   "outputs": [
    {
     "name": "stdout",
     "output_type": "stream",
     "text": [
      "354224848179261915075\n",
      "3\n",
      "2\n"
     ]
    }
   ],
   "source": [
    "print(test.Fibonacci(100))\n",
    "print(test.jumpFloor(3))\n",
    "print(test.jumpFloorII(2))"
   ]
  }
 ],
 "metadata": {
  "kernelspec": {
   "display_name": "Python 3",
   "language": "python",
   "name": "python3"
  },
  "language_info": {
   "codemirror_mode": {
    "name": "ipython",
    "version": 3
   },
   "file_extension": ".py",
   "mimetype": "text/x-python",
   "name": "python",
   "nbconvert_exporter": "python",
   "pygments_lexer": "ipython3",
   "version": "3.6.0"
  }
 },
 "nbformat": 4,
 "nbformat_minor": 2
}
