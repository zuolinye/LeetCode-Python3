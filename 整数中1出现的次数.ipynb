{
 "cells": [
  {
   "cell_type": "markdown",
   "metadata": {},
   "source": [
    "'''\n",
    "求出1~13的整数中1出现的次数,并算出100~1300的整数中1出现的次数？\n",
    "1~13中包含1的数字有1、10、11、12、13因此共出现6次。\n",
    "'''"
   ]
  },
  {
   "cell_type": "code",
   "execution_count": 2,
   "metadata": {},
   "outputs": [],
   "source": [
    "# -*- coding:utf-8 -*-\n",
    "class Solution:\n",
    "    def NumberOf1Between1AndN_Solution(self, n):\n",
    "        ones, m = 0, 1\n",
    "        while m <= n:\n",
    "            ones += (n // m + 8) // 10 * m + (n // m % 10 == 1) * (n % m + 1)\n",
    "            m *= 10\n",
    "        return ones\n",
    "\n",
    "    def NumberOf1Between1AndN2(self, n):\n",
    "        ones, m = 0, 1\n",
    "        while m <= n:\n",
    "            if ((n // m) % 10) != 0 and ((n // m) % 10) != 1:\n",
    "                ones += (n // 10 // m + 1) * m\n",
    "            elif ((n // m) % 10) == 1:\n",
    "                ones += (n // m // 10) * m + n % m + 1\n",
    "            m *= 10\n",
    "        return ones"
   ]
  },
  {
   "cell_type": "code",
   "execution_count": 3,
   "metadata": {},
   "outputs": [],
   "source": [
    "s = Solution()"
   ]
  },
  {
   "cell_type": "code",
   "execution_count": 4,
   "metadata": {},
   "outputs": [
    {
     "name": "stdout",
     "output_type": "stream",
     "text": [
      "213\n",
      "213\n"
     ]
    }
   ],
   "source": [
    "print(s.NumberOf1Between1AndN_Solution(526))\n",
    "print(s.NumberOf1Between1AndN2(526))"
   ]
  },
  {
   "cell_type": "code",
   "execution_count": null,
   "metadata": {},
   "outputs": [],
   "source": []
  }
 ],
 "metadata": {
  "kernelspec": {
   "display_name": "Python 3",
   "language": "python",
   "name": "python3"
  },
  "language_info": {
   "codemirror_mode": {
    "name": "ipython",
    "version": 3
   },
   "file_extension": ".py",
   "mimetype": "text/x-python",
   "name": "python",
   "nbconvert_exporter": "python",
   "pygments_lexer": "ipython3",
   "version": "3.6.0"
  }
 },
 "nbformat": 4,
 "nbformat_minor": 2
}
