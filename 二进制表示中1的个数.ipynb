{
 "cells": [
  {
   "cell_type": "markdown",
   "metadata": {},
   "source": [
    "'''\n",
    "输入一个整数，输出该数二进制表示中1的个数。其中负数用补码表示。\n",
    "'''"
   ]
  },
  {
   "cell_type": "code",
   "execution_count": 4,
   "metadata": {},
   "outputs": [],
   "source": [
    "class Solution:\n",
    "    def NumberOf1(self, n):\n",
    "        count = 0\n",
    "        if n < 0:\n",
    "            n = n & 0xffffffff\n",
    "        while n:\n",
    "            count += 1\n",
    "            n = (n-1)&n\n",
    "        return count\n",
    "\n",
    "    def NumberOf2(self, n):\n",
    "        if n < 0:\n",
    "            s = bin(n & 0xffffffff)\n",
    "        else:\n",
    "            s = bin(n)\n",
    "        return s.count('1')\n",
    "\n",
    "    # 判断一个数是不是2的整数次幂\n",
    "    def powerOf2(self, n):\n",
    "        if n&(n-1) == 0:\n",
    "            return True\n",
    "        else:\n",
    "            return False\n",
    "    # 判断两个数的二进制表示有多少位不一样, 直接比较两个数的二进制异或就可以\n",
    "    def andOr(self, m, n):\n",
    "        diff = m^n\n",
    "        count = 0\n",
    "        while diff:\n",
    "            count += 1\n",
    "            diff = diff&(diff-1)\n",
    "        return count"
   ]
  },
  {
   "cell_type": "code",
   "execution_count": 5,
   "metadata": {},
   "outputs": [],
   "source": [
    "S = Solution()"
   ]
  },
  {
   "cell_type": "code",
   "execution_count": 6,
   "metadata": {},
   "outputs": [
    {
     "name": "stdout",
     "output_type": "stream",
     "text": [
      "32\n",
      "32\n",
      "True\n",
      "False\n",
      "3\n"
     ]
    }
   ],
   "source": [
    "print(S.NumberOf1(-1))\n",
    "print(S.NumberOf2(-1))\n",
    "print(S.powerOf2(64))\n",
    "print(S.powerOf2(63))\n",
    "print(S.andOr(10, 13))"
   ]
  },
  {
   "cell_type": "code",
   "execution_count": null,
   "metadata": {},
   "outputs": [],
   "source": []
  }
 ],
 "metadata": {
  "kernelspec": {
   "display_name": "Python 3",
   "language": "python",
   "name": "python3"
  },
  "language_info": {
   "codemirror_mode": {
    "name": "ipython",
    "version": 3
   },
   "file_extension": ".py",
   "mimetype": "text/x-python",
   "name": "python",
   "nbconvert_exporter": "python",
   "pygments_lexer": "ipython3",
   "version": "3.6.0"
  }
 },
 "nbformat": 4,
 "nbformat_minor": 2
}
